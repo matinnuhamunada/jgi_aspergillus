{
 "cells": [
  {
   "cell_type": "code",
   "execution_count": 14,
   "id": "d8a9055a-6168-4a69-969b-4644e1a188a0",
   "metadata": {},
   "outputs": [],
   "source": [
    "from antismash.common import gff_parser\n",
    "from antismash.common import record_processing\n",
    "\n",
    "import sys\n",
    "import os\n",
    "from pathlib import Path\n",
    "\n",
    "from Bio import SeqIO\n",
    "from Bio.Seq import Seq\n",
    "from Bio.SeqRecord import SeqRecord\n",
    "\n",
    "def extract_aa(records):\n",
    "    faa = []\n",
    "    for record in records:\n",
    "        for feat in record.features:\n",
    "            if feat.type==\"CDS\":\n",
    "                assert len(feat.qualifiers['translation'])==1\n",
    "                gene_id = feat.qualifiers['gene'][0]\n",
    "                locus_tag = feat.qualifiers['locus_tag']\n",
    "                aa = feat.qualifiers['translation'][0]\n",
    "\n",
    "                faa_record = SeqRecord(\n",
    "                    Seq(aa),\n",
    "                    id=locus_tag,\n",
    "                    name=locus_tag,\n",
    "                    description=gene_id,\n",
    "                )\n",
    "\n",
    "                faa.append(faa_record)\n",
    "    return faa\n",
    "\n",
    "def jgi_gff_to_gbk(fasta, taxon, gff, metadata, genome_id):\n",
    "    records = record_processing.parse_input_sequence(fasta, \n",
    "                                                     taxon=taxon,\n",
    "                                                     gff_file=gff)\n",
    "    records_biopython = [r.to_biopython() for r in records]\n",
    "    \n",
    "    with open(metadata, 'r') as f:\n",
    "        taxonomy = f.read().split(\",\")\n",
    "        definition = \" \".join(taxonomy)\n",
    "        source = \" \".join(taxonomy[0:2])\n",
    "    \n",
    "    for record in records_biopython:\n",
    "        old_name = record.name\n",
    "        new_name = f\"{genome_id}_{old_name.split('_')[-1]}\"\n",
    "        record.name = new_name\n",
    "        record.id = new_name\n",
    "        record.annotations['organism'] = source\n",
    "        record.annotations['source'] = source\n",
    "        record.description = definition\n",
    "        for feat in record.features:\n",
    "            if feat.type==\"CDS\":\n",
    "                assert len(feat.qualifiers['translation'])==1\n",
    "                feat.qualifiers['locus_tag'] = f\"{record.name}-{feat.qualifiers['ID'][0]}\"\n",
    "    \n",
    "    #SeqIO.write(records_biopython, out_file, \"genbank\")   \n",
    "    return records_biopython\n",
    "\n",
    "def jgi_convert_gff(fasta, taxon, gff, metadata, outdir, genome_id):\n",
    "    records = jgi_gff_to_gbk(fasta, 'fungi', gff, outfile, metadata, genome_id)\n",
    "    faa = extract_aa(records)\n",
    "    \n",
    "    # generate outdir\n",
    "    outdir = Path(outdir)\n",
    "    outdir.mkdir(parents=True, exist_ok=True)\n",
    "    \n",
    "    # write files\n",
    "    SeqIO.write(records[0], outdir / f\"{genome_id}.gbk\", \"genbank\")\n",
    "    SeqIO.write(records[0], outdir / f\"{genome_id}.fna\", \"fasta\")\n",
    "    SeqIO.write(faa[0], outdir / f\"{genome_id}.faa\", \"fasta\")\n",
    "    return\n",
    "\n"
   ]
  },
  {
   "cell_type": "code",
   "execution_count": 15,
   "id": "357b2835-42ea-4e8f-96f2-a82bb07f8f7e",
   "metadata": {},
   "outputs": [],
   "source": [
    "fasta = \"../data/interim/fasta/1052026.fna\"\n",
    "gff = \"../data/interim/prokka/1052026/1052026.gff\"\n",
    "metadata = \"../data/interim/prokka/1052026/organism_info.txt\"\n",
    "genome_id = \"1052026\"\n",
    "outfile = \"test2/test2.gbk\""
   ]
  },
  {
   "cell_type": "code",
   "execution_count": 16,
   "id": "51d69216-a5a2-45c1-9afb-2b70ded84bf2",
   "metadata": {},
   "outputs": [],
   "source": [
    "records = jgi_gff_to_gbk(fasta, 'fungi', gff, outfile, metadata, genome_id)\n",
    "faa = extract_aa(records)"
   ]
  },
  {
   "cell_type": "code",
   "execution_count": 17,
   "id": "f525c226-d6d5-45cc-a212-127bfb1b780f",
   "metadata": {},
   "outputs": [
    {
     "name": "stdout",
     "output_type": "stream",
     "text": [
      "ID: 1052026_2\n",
      "Name: 1052026_2\n",
      "Description: Aspergillus astellatus CBS 261.93\n",
      "Number of features: 348\n",
      "/molecule_type=DNA\n",
      "/organism=Aspergillus astellatus\n",
      "/source=Aspergillus astellatus\n",
      "Seq('CCTTGATGGGAAAACATACACGGCGTTGGACTATAATGACTATAACCTGAAATC...AAA')\n"
     ]
    }
   ],
   "source": [
    "print(records[1])"
   ]
  },
  {
   "cell_type": "code",
   "execution_count": 18,
   "id": "75058c8c-c673-43a0-9b4e-bb1b11240dae",
   "metadata": {},
   "outputs": [
    {
     "data": {
      "text/plain": [
       "1"
      ]
     },
     "execution_count": 18,
     "metadata": {},
     "output_type": "execute_result"
    }
   ],
   "source": [
    "SeqIO.write(records[0], outfile, \"genbank\")\n",
    "SeqIO.write(records[0], 'test2/test2.fna', \"fasta\")\n",
    "SeqIO.write(faa[0], 'test2/test2.faa', \"fasta\")"
   ]
  },
  {
   "cell_type": "code",
   "execution_count": 103,
   "id": "10b9a390-dd6d-4ed2-82e3-3a8ff3727205",
   "metadata": {},
   "outputs": [
    {
     "name": "stdout",
     "output_type": "stream",
     "text": [
      ">scaffold_1\n",
      "TAAAACCCTAATAAAACCCTAAAACCCTAAAACCCTAAAACCCTAAACCCTAATAAAACCCTAAAACCCT\n",
      "AAAACCCTAAAACCCTAAAACCCTAAACCCTAATAAAACCCTAATAAAAACCCTAATAAAACCCTAATTA\n",
      "CTAATAGTATTTCTATAAATATTAATTCTAGAATCTTATTTCTAGATAAAATTCCTGGGTCTTCTAGCAG\n",
      "attaatattattaatatttattataCTATTTCTAGACTTCCGCTGTCTATAATAAAAGAAACTTTCttaa\n",
      "ttaaattttatatttttttattatCTGCCGTCTGttattttatattattaagtatatttaatttaaataa\n",
      "ataattaatCTTACTATTCTGGTATCTTCCTAAATTCTTACTTTTCTCTATCAGatataaattaaaaaat\n",
      "atttcttaaaattattaaaaaagatatatatCCAGCTATTATTAAAATTTCCAAATAACAAGCAGatatt\n",
      "aattataattaactattaaattaatctagattaaaaaatatttcttactctgattaaatattttctaata\n",
      "aaaaatataaattattataagattttattaGATTTCTAACCAGTATCTGGATCTTATACTAGTAAAAATC\n"
     ]
    }
   ],
   "source": [
    "! head {fasta}"
   ]
  },
  {
   "cell_type": "code",
   "execution_count": 104,
   "id": "9a140ffc-0bf6-44e7-93e7-6aeb448be7fe",
   "metadata": {},
   "outputs": [
    {
     "name": "stdout",
     "output_type": "stream",
     "text": [
      "##gff-version 3\n",
      "##sequence-region scaffold_1 1 1316899\n",
      "scaffold_1\tprediction\tgene\t6441\t7718\t0\t+\t.\tID=gene_1;Name=jgi.p|Aspaste1|119594;portal_id=Aspaste1;proteinId=119594;transcriptId=119867\n",
      "scaffold_1\tprediction\tmRNA\t6441\t7718\t.\t+\t.\tID=mRNA_1;Name=jgi.p|Aspaste1|119594;Parent=gene_1;proteinId=119594;track=FilteredModels1;transcriptId=119867\n",
      "scaffold_1\tprediction\texon\t6441\t7718\t.\t+\t.\tID=exon_1_1;Parent=mRNA_1\n",
      "scaffold_1\tprediction\tfive_prime_UTR\t6441\t6477\t.\t+\t.\tID=UTR5_1;Parent=mRNA_1\n",
      "scaffold_1\tprediction\tCDS\t6478\t7623\t.\t+\t0\tID=CDS_1;Parent=mRNA_1\n",
      "scaffold_1\tprediction\tthree_prime_UTR\t7624\t7718\t.\t+\t.\tID=UTR3_1;Parent=mRNA_1\n",
      "scaffold_1\tprediction\tgene\t7754\t9181\t0\t-\t.\tID=gene_2;Name=jgi.p|Aspaste1|147021;portal_id=Aspaste1;proteinId=147021;transcriptId=147294\n",
      "scaffold_1\tprediction\tmRNA\t7754\t9181\t.\t-\t.\tID=mRNA_2;Name=jgi.p|Aspaste1|147021;Parent=gene_2;proteinId=147021;track=FilteredModels1;transcriptId=147294\n"
     ]
    }
   ],
   "source": [
    "! head {gff}"
   ]
  },
  {
   "cell_type": "code",
   "execution_count": 105,
   "id": "e991afd4-af32-40df-adb6-5ad13db94b74",
   "metadata": {},
   "outputs": [
    {
     "name": "stdout",
     "output_type": "stream",
     "text": [
      "LOCUS       1052026_1            1316899 bp    DNA              UNK 01-JAN-1980\n",
      "DEFINITION  Aspergillus astellatus CBS 261.93.\n",
      "ACCESSION   scaffold_1\n",
      "VERSION     scaffold_1\n",
      "KEYWORDS    .\n",
      "SOURCE      Aspergillus astellatus\n",
      "  ORGANISM  Aspergillus astellatus\n",
      "            .\n",
      "FEATURES             Location/Qualifiers\n",
      "     CDS             6478..7623\n"
     ]
    }
   ],
   "source": [
    "! head test2/test2.gbk"
   ]
  },
  {
   "cell_type": "code",
   "execution_count": null,
   "id": "5e0033a3-c3b3-40d8-ab91-6c02794dee87",
   "metadata": {},
   "outputs": [],
   "source": [
    "from Bio import SeqIO\n",
    "gbk_filename = \"NC_005213.gbk\"\n",
    "faa_filename = \"NC_005213_converted.faa\"\n",
    "input_handle  = open(gbk_filename, \"r\")\n",
    "output_handle = open(faa_filename, \"w\")\n",
    "\n",
    "for seq_record in SeqIO.parse(input_handle, \"genbank\") :\n",
    "    print \"Dealing with GenBank record %s\" % seq_record.id\n",
    "    for seq_feature in seq_record.features :\n",
    "        if seq_feature.type==\"CDS\" :\n",
    "            assert len(seq_feature.qualifiers['translation'])==1\n",
    "            output_handle.write(\">%s from %s\\n%s\\n\" % (\n",
    "                   seq_feature.qualifiers['locus_tag'][0],\n",
    "                   seq_record.name,\n",
    "                   seq_feature.qualifiers['translation'][0]))\n",
    "\n",
    "output_handle.close()\n",
    "input_handle.close()"
   ]
  },
  {
   "cell_type": "code",
   "execution_count": 92,
   "id": "d342bea5-0be3-4314-b964-6a1daf4b0b47",
   "metadata": {},
   "outputs": [
    {
     "name": "stdout",
     "output_type": "stream",
     "text": [
      ">jgi|Aspdef1|10003|CE10002_86\n",
      "MSATGPPVGAQAAASPTTNRESTRTSANVLESPISSPHGLDGSTSRPGHRRIVFTDPVALRYLEEDPSTV\n",
      "VLHRRLALEGYEIYIVEQWACSRIHPTFVITTYTGDSSHKVVVGVLGVPTNEAAWSDRLRLYFEAFKTCQ\n",
      "LREKETPLGTIMVTDLNSFPSGLTVIPVPNGDILRHREDFIVNENLKRLGCAGRAGLKLQAPSPATVAKF\n",
      "HQLYRTSERIPLYSAVIELVKQCQIALMMFGNLAPEYVDGLLCDVTEAAVGDWWTDIGMDLYNIEPSDGR\n",
      "LGPTTVAALLGTLMGARNRLHAFGAPVSKDVFDISSLKRGIGGFQKSQKLKRTRRLNRHTLDRLHRVTAK\n",
      "AANAEGWTDAVKSTMAELSGHGGEMVMGMVRGREKGGIADIETIDIDNFAQLATGERAKWLWRGKPRKSA\n",
      "VAANGPPAADMMFTTDEQGGYVWTSRKRHSHEDLGIDPAFQRSDRSWKPQEVASFPEDKDQNLPRMVIKG\n",
      "VSEKVSDARVGFGKFKDAVGISGRRSQPQKQSKDGLEIVGDADYIASPESDTEISPSKKIAENYVQSGYE\n",
      "SAPLPDTQNLDDIEQAEPPPDTALQSAEAKPPEITVEPAASNDDTDTSPKASITRIDDDSQVLDRSKTQS\n"
     ]
    }
   ],
   "source": [
    "! head Aspdef1_GeneModels_FilteredModels1_aa.fasta"
   ]
  },
  {
   "cell_type": "code",
   "execution_count": 120,
   "id": "2fe4f823-0e8b-4478-aec8-b4d5a6960ae7",
   "metadata": {},
   "outputs": [
    {
     "name": "stdout",
     "output_type": "stream",
     "text": [
      "ID: YP_025292.1\n",
      "Name: HokC\n",
      "Description: toxic membrane protein, small\n",
      "Number of features: 0\n",
      "Seq('MKQHKAMIVALIVICITAVVAALVTRKDLCEVHIRTGQTEVAVF')\n"
     ]
    }
   ],
   "source": [
    "\n",
    "\n",
    "record = SeqRecord(\n",
    "    Seq(\"MKQHKAMIVALIVICITAVVAALVTRKDLCEVHIRTGQTEVAVF\"),\n",
    "    id=\"YP_025292.1\",\n",
    "    name=\"HokC\",\n",
    "    description=\"toxic membrane protein, small\",\n",
    ")\n",
    "print(record)"
   ]
  },
  {
   "cell_type": "code",
   "execution_count": 128,
   "id": "6f0194df-93d7-4fad-9d26-0b5d5edbed18",
   "metadata": {},
   "outputs": [],
   "source": [
    "faa = []\n",
    "for feat in records[0].features:\n",
    "    if feat.type==\"CDS\":\n",
    "        assert len(feat.qualifiers['translation'])==1\n",
    "        gene_id = feat.qualifiers['gene'][0]\n",
    "        locus_tag = feat.qualifiers['locus_tag']\n",
    "        aa = feat.qualifiers['translation'][0]\n",
    "        \n",
    "        faa_record = SeqRecord(\n",
    "            Seq(aa),\n",
    "            id=locus_tag,\n",
    "            name=locus_tag,\n",
    "            description=gene_id,\n",
    "        )\n",
    "        \n",
    "        faa.append(faa_record)"
   ]
  },
  {
   "cell_type": "code",
   "execution_count": 129,
   "id": "094d4851-71be-4c4f-b678-5241930109b7",
   "metadata": {},
   "outputs": [
    {
     "name": "stdout",
     "output_type": "stream",
     "text": [
      "ID: 1052026_1_CDS_1\n",
      "Name: 1052026_1_CDS_1\n",
      "Description: jgi.p_Aspaste1_119594\n",
      "Number of features: 0\n",
      "Seq('MAPVSRTSFRTVDQFIPTASIPMDEEVSWDLPRQETSFEAFSIPQDPQNPEGLQ...ETD')\n"
     ]
    }
   ],
   "source": [
    "print(faa[0])"
   ]
  },
  {
   "cell_type": "code",
   "execution_count": 130,
   "id": "116e379b-5e7f-45ae-9b52-3ae3561a7708",
   "metadata": {},
   "outputs": [
    {
     "data": {
      "text/plain": [
       "1"
      ]
     },
     "execution_count": 130,
     "metadata": {},
     "output_type": "execute_result"
    }
   ],
   "source": [
    "SeqIO.write(faa[0], \"test2/aa.faa\", \"fasta\")"
   ]
  },
  {
   "cell_type": "code",
   "execution_count": 131,
   "id": "5a18636c-0a90-4e10-a1eb-d7fad2befb6a",
   "metadata": {},
   "outputs": [
    {
     "ename": "AttributeError",
     "evalue": "'str' object has no attribute 'id'",
     "output_type": "error",
     "traceback": [
      "\u001b[0;31m---------------------------------------------------------------------------\u001b[0m",
      "\u001b[0;31mAttributeError\u001b[0m                            Traceback (most recent call last)",
      "Input \u001b[0;32mIn [131]\u001b[0m, in \u001b[0;36m<cell line: 1>\u001b[0;34m()\u001b[0m\n\u001b[0;32m----> 1\u001b[0m \u001b[43mSeqIO\u001b[49m\u001b[38;5;241;43m.\u001b[39;49m\u001b[43mwrite\u001b[49m\u001b[43m(\u001b[49m\u001b[43mrecord\u001b[49m\u001b[43m[\u001b[49m\u001b[38;5;241;43m0\u001b[39;49m\u001b[43m]\u001b[49m\u001b[43m,\u001b[49m\u001b[43m \u001b[49m\u001b[38;5;124;43m\"\u001b[39;49m\u001b[38;5;124;43mtest2/nuc.fna\u001b[39;49m\u001b[38;5;124;43m\"\u001b[39;49m\u001b[43m,\u001b[49m\u001b[43m \u001b[49m\u001b[38;5;124;43m\"\u001b[39;49m\u001b[38;5;124;43mfasta\u001b[39;49m\u001b[38;5;124;43m\"\u001b[39;49m\u001b[43m)\u001b[49m\n",
      "File \u001b[0;32m/datadrive/home/miniconda3/envs/antismash_env/lib/python3.8/site-packages/Bio/SeqIO/__init__.py:524\u001b[0m, in \u001b[0;36mwrite\u001b[0;34m(sequences, handle, format)\u001b[0m\n\u001b[1;32m    522\u001b[0m \u001b[38;5;28;01mwith\u001b[39;00m as_handle(handle, \u001b[38;5;124m\"\u001b[39m\u001b[38;5;124mw\u001b[39m\u001b[38;5;124m\"\u001b[39m) \u001b[38;5;28;01mas\u001b[39;00m fp:\n\u001b[1;32m    523\u001b[0m     \u001b[38;5;28;01mfor\u001b[39;00m record \u001b[38;5;129;01min\u001b[39;00m sequences:\n\u001b[0;32m--> 524\u001b[0m         fp\u001b[38;5;241m.\u001b[39mwrite(\u001b[43mformat_function\u001b[49m\u001b[43m(\u001b[49m\u001b[43mrecord\u001b[49m\u001b[43m)\u001b[49m)\n\u001b[1;32m    525\u001b[0m         count \u001b[38;5;241m+\u001b[39m\u001b[38;5;241m=\u001b[39m \u001b[38;5;241m1\u001b[39m\n\u001b[1;32m    526\u001b[0m \u001b[38;5;28;01mreturn\u001b[39;00m count\n",
      "File \u001b[0;32m/datadrive/home/miniconda3/envs/antismash_env/lib/python3.8/site-packages/Bio/SeqIO/FastaIO.py:376\u001b[0m, in \u001b[0;36mas_fasta\u001b[0;34m(record)\u001b[0m\n\u001b[1;32m    370\u001b[0m \u001b[38;5;28;01mdef\u001b[39;00m \u001b[38;5;21mas_fasta\u001b[39m(record):\n\u001b[1;32m    371\u001b[0m     \u001b[38;5;124;03m\"\"\"Turn a SeqRecord into a FASTA formatted string.\u001b[39;00m\n\u001b[1;32m    372\u001b[0m \n\u001b[1;32m    373\u001b[0m \u001b[38;5;124;03m    This is used internally by the SeqRecord's .format(\"fasta\")\u001b[39;00m\n\u001b[1;32m    374\u001b[0m \u001b[38;5;124;03m    method and by the SeqIO.write(..., ..., \"fasta\") function.\u001b[39;00m\n\u001b[1;32m    375\u001b[0m \u001b[38;5;124;03m    \"\"\"\u001b[39;00m\n\u001b[0;32m--> 376\u001b[0m     \u001b[38;5;28mid\u001b[39m \u001b[38;5;241m=\u001b[39m _clean(\u001b[43mrecord\u001b[49m\u001b[38;5;241;43m.\u001b[39;49m\u001b[43mid\u001b[49m)\n\u001b[1;32m    377\u001b[0m     description \u001b[38;5;241m=\u001b[39m _clean(record\u001b[38;5;241m.\u001b[39mdescription)\n\u001b[1;32m    378\u001b[0m     \u001b[38;5;28;01mif\u001b[39;00m description \u001b[38;5;129;01mand\u001b[39;00m description\u001b[38;5;241m.\u001b[39msplit(\u001b[38;5;28;01mNone\u001b[39;00m, \u001b[38;5;241m1\u001b[39m)[\u001b[38;5;241m0\u001b[39m] \u001b[38;5;241m==\u001b[39m \u001b[38;5;28mid\u001b[39m:\n\u001b[1;32m    379\u001b[0m         \u001b[38;5;66;03m# The description includes the id at the start\u001b[39;00m\n",
      "\u001b[0;31mAttributeError\u001b[0m: 'str' object has no attribute 'id'"
     ]
    }
   ],
   "source": [
    "SeqIO.write(record[0], \"test2/nuc.fna\", \"fasta\")"
   ]
  },
  {
   "cell_type": "code",
   "execution_count": null,
   "id": "bcc31a71-a568-43e2-a818-79d9cca0b4e3",
   "metadata": {},
   "outputs": [],
   "source": []
  }
 ],
 "metadata": {
  "kernelspec": {
   "display_name": "Python 3 (ipykernel)",
   "language": "python",
   "name": "python3"
  },
  "language_info": {
   "codemirror_mode": {
    "name": "ipython",
    "version": 3
   },
   "file_extension": ".py",
   "mimetype": "text/x-python",
   "name": "python",
   "nbconvert_exporter": "python",
   "pygments_lexer": "ipython3",
   "version": "3.8.13"
  }
 },
 "nbformat": 4,
 "nbformat_minor": 5
}
