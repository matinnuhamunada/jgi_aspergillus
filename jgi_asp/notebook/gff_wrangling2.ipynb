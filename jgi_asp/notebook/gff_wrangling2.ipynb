{
 "cells": [
  {
   "cell_type": "code",
   "execution_count": 3,
   "id": "a8c86056-421b-451b-ad0f-752ee0f6ee01",
   "metadata": {},
   "outputs": [],
   "source": [
    "gff3 = '/home/bgcflow_admin/other_projects/jgi_aspergillus/data/APAsp1422609747/Mycocosm/Annotation/Filtered Models (\"best\")/Genes/Aspacri1_GeneCatalog_20160412.gff3'\n",
    "fasta = '/home/bgcflow_admin/other_projects/jgi_aspergillus/data/APAsp1422609747/Mycocosm/Assembly/Assembled scaffolds (masked)/Aspacri1_AssemblyScaffolds_Repeatmasked.fasta'\n",
    "kog = '/home/bgcflow_admin/other_projects/jgi_aspergillus/data/APAsp1422609747/Mycocosm/Annotation/Filtered Models (\"best\")/Functional Annotations/KOG/Aspacri1_GeneCatalog_proteins_20160412_KOG.tab' \n",
    "genome_id = 'Aspacri1'"
   ]
  },
  {
   "cell_type": "code",
   "execution_count": 8,
   "id": "8a51befd-e885-450f-9117-b9c5383ca9cc",
   "metadata": {},
   "outputs": [
    {
     "name": "stderr",
     "output_type": "stream",
     "text": [
      "I require gag.py but it's not installed.  Aborting.\n"
     ]
    },
    {
     "ename": "CalledProcessError",
     "evalue": "Command 'b'bash ../scripts/genome_scripts/jgi2gbk.sh {gff3} {fasta} {kog} {genome_id}\\n'' returned non-zero exit status 1.",
     "output_type": "error",
     "traceback": [
      "\u001b[0;31m---------------------------------------------------------------------------\u001b[0m",
      "\u001b[0;31mCalledProcessError\u001b[0m                        Traceback (most recent call last)",
      "Input \u001b[0;32mIn [8]\u001b[0m, in \u001b[0;36m<cell line: 1>\u001b[0;34m()\u001b[0m\n\u001b[0;32m----> 1\u001b[0m \u001b[43mget_ipython\u001b[49m\u001b[43m(\u001b[49m\u001b[43m)\u001b[49m\u001b[38;5;241;43m.\u001b[39;49m\u001b[43mrun_cell_magic\u001b[49m\u001b[43m(\u001b[49m\u001b[38;5;124;43m'\u001b[39;49m\u001b[38;5;124;43mbash\u001b[39;49m\u001b[38;5;124;43m'\u001b[39;49m\u001b[43m,\u001b[49m\u001b[43m \u001b[49m\u001b[38;5;124;43m'\u001b[39;49m\u001b[38;5;124;43m'\u001b[39;49m\u001b[43m,\u001b[49m\u001b[43m \u001b[49m\u001b[38;5;124;43m'\u001b[39;49m\u001b[38;5;124;43mbash ../scripts/genome_scripts/jgi2gbk.sh \u001b[39;49m\u001b[38;5;132;43;01m{gff3}\u001b[39;49;00m\u001b[38;5;124;43m \u001b[39;49m\u001b[38;5;132;43;01m{fasta}\u001b[39;49;00m\u001b[38;5;124;43m \u001b[39;49m\u001b[38;5;132;43;01m{kog}\u001b[39;49;00m\u001b[38;5;124;43m \u001b[39;49m\u001b[38;5;132;43;01m{genome_id}\u001b[39;49;00m\u001b[38;5;130;43;01m\\n\u001b[39;49;00m\u001b[38;5;124;43m'\u001b[39;49m\u001b[43m)\u001b[49m\n",
      "File \u001b[0;32m/datadrive/home/miniconda3/envs/antismash_env/lib/python3.8/site-packages/IPython/core/interactiveshell.py:2358\u001b[0m, in \u001b[0;36mInteractiveShell.run_cell_magic\u001b[0;34m(self, magic_name, line, cell)\u001b[0m\n\u001b[1;32m   2356\u001b[0m \u001b[38;5;28;01mwith\u001b[39;00m \u001b[38;5;28mself\u001b[39m\u001b[38;5;241m.\u001b[39mbuiltin_trap:\n\u001b[1;32m   2357\u001b[0m     args \u001b[38;5;241m=\u001b[39m (magic_arg_s, cell)\n\u001b[0;32m-> 2358\u001b[0m     result \u001b[38;5;241m=\u001b[39m \u001b[43mfn\u001b[49m\u001b[43m(\u001b[49m\u001b[38;5;241;43m*\u001b[39;49m\u001b[43margs\u001b[49m\u001b[43m,\u001b[49m\u001b[43m \u001b[49m\u001b[38;5;241;43m*\u001b[39;49m\u001b[38;5;241;43m*\u001b[39;49m\u001b[43mkwargs\u001b[49m\u001b[43m)\u001b[49m\n\u001b[1;32m   2359\u001b[0m \u001b[38;5;28;01mreturn\u001b[39;00m result\n",
      "File \u001b[0;32m/datadrive/home/miniconda3/envs/antismash_env/lib/python3.8/site-packages/IPython/core/magics/script.py:153\u001b[0m, in \u001b[0;36mScriptMagics._make_script_magic.<locals>.named_script_magic\u001b[0;34m(line, cell)\u001b[0m\n\u001b[1;32m    151\u001b[0m \u001b[38;5;28;01melse\u001b[39;00m:\n\u001b[1;32m    152\u001b[0m     line \u001b[38;5;241m=\u001b[39m script\n\u001b[0;32m--> 153\u001b[0m \u001b[38;5;28;01mreturn\u001b[39;00m \u001b[38;5;28;43mself\u001b[39;49m\u001b[38;5;241;43m.\u001b[39;49m\u001b[43mshebang\u001b[49m\u001b[43m(\u001b[49m\u001b[43mline\u001b[49m\u001b[43m,\u001b[49m\u001b[43m \u001b[49m\u001b[43mcell\u001b[49m\u001b[43m)\u001b[49m\n",
      "File \u001b[0;32m/datadrive/home/miniconda3/envs/antismash_env/lib/python3.8/site-packages/IPython/core/magics/script.py:305\u001b[0m, in \u001b[0;36mScriptMagics.shebang\u001b[0;34m(self, line, cell)\u001b[0m\n\u001b[1;32m    300\u001b[0m \u001b[38;5;28;01mif\u001b[39;00m args\u001b[38;5;241m.\u001b[39mraise_error \u001b[38;5;129;01mand\u001b[39;00m p\u001b[38;5;241m.\u001b[39mreturncode \u001b[38;5;241m!=\u001b[39m \u001b[38;5;241m0\u001b[39m:\n\u001b[1;32m    301\u001b[0m     \u001b[38;5;66;03m# If we get here and p.returncode is still None, we must have\u001b[39;00m\n\u001b[1;32m    302\u001b[0m     \u001b[38;5;66;03m# killed it but not yet seen its return code. We don't wait for it,\u001b[39;00m\n\u001b[1;32m    303\u001b[0m     \u001b[38;5;66;03m# in case it's stuck in uninterruptible sleep. -9 = SIGKILL\u001b[39;00m\n\u001b[1;32m    304\u001b[0m     rc \u001b[38;5;241m=\u001b[39m p\u001b[38;5;241m.\u001b[39mreturncode \u001b[38;5;129;01mor\u001b[39;00m \u001b[38;5;241m-\u001b[39m\u001b[38;5;241m9\u001b[39m\n\u001b[0;32m--> 305\u001b[0m     \u001b[38;5;28;01mraise\u001b[39;00m CalledProcessError(rc, cell)\n",
      "\u001b[0;31mCalledProcessError\u001b[0m: Command 'b'bash ../scripts/genome_scripts/jgi2gbk.sh {gff3} {fasta} {kog} {genome_id}\\n'' returned non-zero exit status 1."
     ]
    }
   ],
   "source": [
    "%%bash\n",
    "bash ../scripts/genome_scripts/jgi2gbk.sh {gff3} {fasta} {kog} {genome_id}"
   ]
  },
  {
   "cell_type": "code",
   "execution_count": 9,
   "id": "7be27ca2-5bc3-4423-8f7d-a7d3baf3b370",
   "metadata": {},
   "outputs": [
    {
     "name": "stdout",
     "output_type": "stream",
     "text": [
      "\n",
      "########### antiSMASH 6.0.1 #############\n",
      "\n",
      "usage: antismash [-h] [options ..] sequence\n",
      "\n",
      "\n",
      "arguments:\n",
      "  SEQUENCE  GenBank/EMBL/FASTA file(s) containing DNA.\n",
      "\n",
      "--------\n",
      "Options\n",
      "--------\n",
      "-h, --help              Show this help text.\n",
      "--help-showall          Show full lists of arguments on this help text.\n",
      "-c CPUS, --cpus CPUS    How many CPUs to use in parallel. (default: 2)\n",
      "\n",
      "Basic analysis options:\n",
      "\n",
      "  --taxon {bacteria,fungi}\n",
      "                        Taxonomic classification of input sequence. (default:\n",
      "                        bacteria)\n",
      "\n",
      "Additional analysis:\n",
      "\n",
      "  --fullhmmer           Run a whole-genome HMMer analysis.\n",
      "  --cassis              Motif based prediction of SM gene cluster regions.\n",
      "  --clusterhmmer        Run a cluster-limited HMMer analysis.\n",
      "  --tigrfam             Annotate clusters using TIGRFam profiles.\n",
      "  --smcog-trees         Generate phylogenetic trees of sec. met. cluster\n",
      "                        orthologous groups.\n",
      "  --tta-threshold TTA_THRESHOLD\n",
      "                        Lowest GC content to annotate TTA codons at (default:\n",
      "                        0.65).\n",
      "  --cb-general          Compare identified clusters against a database of\n",
      "                        antiSMASH-predicted clusters.\n",
      "  --cb-subclusters      Compare identified clusters against known subclusters\n",
      "                        responsible for synthesising precursors.\n",
      "  --cb-knownclusters    Compare identified clusters against known gene\n",
      "                        clusters from the MIBiG database.\n",
      "  --asf                 Run active site finder analysis.\n",
      "  --pfam2go             Run Pfam to Gene Ontology mapping module.\n",
      "  --rre                 Run RREFinder precision mode on all RiPP gene\n",
      "                        clusters.\n",
      "  --cc-mibig            Run a comparison against the MIBiG dataset\n",
      "\n",
      "Output options:\n",
      "\n",
      "  --output-dir OUTPUT_DIR\n",
      "                        Directory to write results to.\n",
      "  --output-basename OUTPUT_BASENAME\n",
      "                        Base filename to use for output files within the\n",
      "                        output directory.\n",
      "  --html-title HTML_TITLE\n",
      "                        Custom title for the HTML output page (default is\n",
      "                        input filename).\n",
      "  --html-description HTML_DESCRIPTION\n",
      "                        Custom description to add to the output.\n",
      "  --html-start-compact  Use compact view by default for overview page.\n",
      "\n",
      "Gene finding options (ignored when ORFs are annotated):\n",
      "\n",
      "  --genefinding-tool {glimmerhmm,prodigal,prodigal-m,none,error}\n",
      "                        Specify algorithm used for gene finding: GlimmerHMM,\n",
      "                        Prodigal, Prodigal Metagenomic/Anonymous mode, or\n",
      "                        none. The 'error' option will raise an error if\n",
      "                        genefinding is attempted. The 'none' option will not\n",
      "                        run genefinding. (default: error).\n",
      "  --genefinding-gff3 GFF3_FILE\n",
      "                        Specify GFF3 file to extract features from.\n",
      "\n"
     ]
    }
   ],
   "source": [
    "! antismash -h"
   ]
  },
  {
   "cell_type": "code",
   "execution_count": null,
   "id": "59e017cf-5882-4667-a5b2-904b09d1f9b4",
   "metadata": {},
   "outputs": [],
   "source": []
  }
 ],
 "metadata": {
  "kernelspec": {
   "display_name": "Python 3 (ipykernel)",
   "language": "python",
   "name": "python3"
  },
  "language_info": {
   "codemirror_mode": {
    "name": "ipython",
    "version": 3
   },
   "file_extension": ".py",
   "mimetype": "text/x-python",
   "name": "python",
   "nbconvert_exporter": "python",
   "pygments_lexer": "ipython3",
   "version": "3.8.13"
  }
 },
 "nbformat": 4,
 "nbformat_minor": 5
}
